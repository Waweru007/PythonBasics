{
 "cells": [
  {
   "cell_type": "code",
   "execution_count": 4,
   "metadata": {},
   "outputs": [],
   "source": [
    "import pyspark as spark\n",
    "from pyspark.sql import SparkSession\n",
    "\n",
    "spark=SparkSession\\\n",
    "    .builder\\\n",
    "    .appName(\"Python SQL Example\")\\\n",
    "    .config(\"spark.some.config.option\",\"same-value\")\\\n",
    "    .getOrCreate()\n",
    "    "
   ]
  },
  {
   "cell_type": "code",
   "execution_count": 6,
   "metadata": {},
   "outputs": [],
   "source": [
    "from pyspark.sql import SQLContext"
   ]
  },
  {
   "cell_type": "code",
   "execution_count": 7,
   "metadata": {},
   "outputs": [],
   "source": [
    "###df=spark.read.csv('C:/Users/Wesh/Desktop/creditcard.csv')\n",
    "df=spark.read\\\n",
    "    .options(header=True, inferSchema=True)\\\n",
    "    .csv('MOCK_DATA.csv')\n",
    "    \n",
    "df1=spark.read\\\n",
    "    .options(header=True, inferSchema=True)\\\n",
    "    .csv('MOCK_DATA.csv')\n",
    "\n",
    "\n",
    "##df2=spark.read.csv('E:/Python/ECMO_Imputed.csv')"
   ]
  },
  {
   "cell_type": "code",
   "execution_count": 16,
   "metadata": {},
   "outputs": [
    {
     "data": {
      "text/plain": [
       "[Row(user_id=None, names=u'Elysha Deex', department=u'Research and Development', salary=83, dob=u'7/1/2018'),\n",
       " Row(user_id=None, names=u'Gennifer Doogue', department=u'Business Development', salary=53, dob=u'6/9/2018'),\n",
       " Row(user_id=None, names=u'Gabie Guillart', department=u'Marketing', salary=57, dob=u'1/27/2018'),\n",
       " Row(user_id=None, names=u'Corabella Morrell', department=u'Support', salary=89, dob=u'2/24/2018'),\n",
       " Row(user_id=None, names=u'Orrin McCrostie', department=u'Engineering', salary=47, dob=u'11/16/2017'),\n",
       " Row(user_id=None, names=u'Cherin Turbefield', department=u'Support', salary=46, dob=u'12/1/2017'),\n",
       " Row(user_id=None, names=u'Candide Dufton', department=u'Training', salary=7, dob=u'3/14/2018'),\n",
       " Row(user_id=None, names=u'Brandice Toyer', department=u'Marketing', salary=34, dob=u'6/9/2018'),\n",
       " Row(user_id=None, names=u'Krystalle Epgrave', department=u'Sales', salary=60, dob=u'12/23/2017'),\n",
       " Row(user_id=None, names=u'Raviv Ambridge', department=u'Accounting', salary=41, dob=u'10/20/2017')]"
      ]
     },
     "execution_count": 16,
     "metadata": {},
     "output_type": "execute_result"
    }
   ],
   "source": [
    "df.head(10)"
   ]
  },
  {
   "cell_type": "code",
   "execution_count": 17,
   "metadata": {},
   "outputs": [
    {
     "data": {
      "text/plain": [
       "[Row(user_id=None, names=u'Elysha Deex', department=u'Research and Development', salary=83, dob=u'7/1/2018'),\n",
       " Row(user_id=None, names=u'Gennifer Doogue', department=u'Business Development', salary=53, dob=u'6/9/2018')]"
      ]
     },
     "execution_count": 17,
     "metadata": {},
     "output_type": "execute_result"
    }
   ],
   "source": [
    "df1.head(2)"
   ]
  },
  {
   "cell_type": "code",
   "execution_count": 10,
   "metadata": {},
   "outputs": [
    {
     "name": "stdout",
     "output_type": "stream",
     "text": [
      "root\n",
      " |-- user_id: string (nullable = true)\n",
      " |-- names: string (nullable = true)\n",
      " |-- department: string (nullable = true)\n",
      " |-- salary: integer (nullable = true)\n",
      " |-- dob: string (nullable = true)\n",
      "\n"
     ]
    }
   ],
   "source": [
    "df.printSchema()\n"
   ]
  },
  {
   "cell_type": "code",
   "execution_count": 12,
   "metadata": {},
   "outputs": [],
   "source": [
    "# df.count()"
   ]
  },
  {
   "cell_type": "code",
   "execution_count": 14,
   "metadata": {},
   "outputs": [],
   "source": [
    "# df.describe().show()"
   ]
  },
  {
   "cell_type": "code",
   "execution_count": 6,
   "metadata": {},
   "outputs": [
    {
     "data": {
      "text/plain": [
       "6753863"
      ]
     },
     "execution_count": 6,
     "metadata": {},
     "output_type": "execute_result"
    }
   ],
   "source": [
    "# df.dropna().count()  ###drop null values and count the number of droped numbers "
   ]
  },
  {
   "cell_type": "code",
   "execution_count": 14,
   "metadata": {},
   "outputs": [],
   "source": [
    "# df2=df.fillna(-1).show(5) ###fill the missing values with -1 and shows the first five values"
   ]
  },
  {
   "cell_type": "code",
   "execution_count": 19,
   "metadata": {},
   "outputs": [
    {
     "name": "stdout",
     "output_type": "stream",
     "text": [
      "+-----------------+\n",
      "|            names|\n",
      "+-----------------+\n",
      "|      Elysha Deex|\n",
      "|  Gennifer Doogue|\n",
      "|   Gabie Guillart|\n",
      "|Corabella Morrell|\n",
      "|  Orrin McCrostie|\n",
      "|Cherin Turbefield|\n",
      "|   Candide Dufton|\n",
      "|   Brandice Toyer|\n",
      "|Krystalle Epgrave|\n",
      "|   Raviv Ambridge|\n",
      "|      Ambros Phin|\n",
      "| Iseabal Tassaker|\n",
      "|       Cly Blesli|\n",
      "|      Claude Lahy|\n",
      "|   Sheelah Dornan|\n",
      "|Sigismundo Slobom|\n",
      "|     Joelie Gauge|\n",
      "| Rosaline Rudloff|\n",
      "|      Zak Wasiela|\n",
      "|     Leigha Isgar|\n",
      "+-----------------+\n",
      "only showing top 20 rows\n",
      "\n"
     ]
    }
   ],
   "source": [
    "df.select(\"names\").show()"
   ]
  },
  {
   "cell_type": "code",
   "execution_count": null,
   "metadata": {},
   "outputs": [],
   "source": []
  }
 ],
 "metadata": {
  "kernelspec": {
   "display_name": "Python 2",
   "language": "python",
   "name": "python2"
  },
  "language_info": {
   "codemirror_mode": {
    "name": "ipython",
    "version": 2
   },
   "file_extension": ".py",
   "mimetype": "text/x-python",
   "name": "python",
   "nbconvert_exporter": "python",
   "pygments_lexer": "ipython2",
   "version": "2.7.15"
  }
 },
 "nbformat": 4,
 "nbformat_minor": 2
}
